{
 "cells": [
  {
   "cell_type": "code",
   "execution_count": 1,
   "id": "8626805d-05a4-4d04-98d0-8c0162643893",
   "metadata": {},
   "outputs": [],
   "source": [
    "import utils\n",
    "import numpy\n",
    "import json\n",
    "import random"
   ]
  },
  {
   "cell_type": "code",
   "execution_count": 2,
   "id": "4f41f654",
   "metadata": {},
   "outputs": [],
   "source": [
    "SEED = 11"
   ]
  },
  {
   "cell_type": "code",
   "execution_count": 3,
   "id": "4927b233-04d4-4368-8476-b10aac7ca13d",
   "metadata": {},
   "outputs": [],
   "source": [
    "\n",
    "def openFile(gate):\n",
    "    with open(gate, 'r') as f:\n",
    "        data = json.load(f)\n",
    "    return data    \n",
    "\n",
    "def initialPopulation(numPopulation:int, numQubits:int, minDepth:int, maxDepth:int):\n",
    "    pass\n",
    "def fidelityFitnessFunction(circuit):\n",
    "    pass\n",
    "def parentSelection():\n",
    "    pass\n",
    "def crossover():\n",
    "    pass\n",
    "def mutation():\n",
    "    pass\n",
    "def survivorSelection():\n",
    "    pass\n"
   ]
  },
  {
   "cell_type": "code",
   "execution_count": 4,
   "id": "ff8d8766",
   "metadata": {},
   "outputs": [],
   "source": [
    "class circuit:\n",
    "    def __init__(self, n_qubits, m_gates) -> None:\n",
    "        self.n_qubits = n_qubits\n",
    "        self.m_gates = m_gates\n",
    "        self.matrix = [[None for _ in range(m_gates)] for _ in range(n_qubits)]\n",
    "        self.fitness = None\n",
    "        \n",
    "class gate:\n",
    "    def __init__(self, name:str, qubit_id:int, affected_qubits:list, parameters:list = [], control_qubits:list = [],  target_qubits:list = []) -> None:\n",
    "        self.name =  name\n",
    "        self.qubit_id = qubit_id\n",
    "        self.affected_qubits = affected_qubits\n",
    "        self.parameters = parameters\n",
    "        self.control_qubits= control_qubits\n",
    "        self.target_qubits= target_qubits"
   ]
  },
  {
   "cell_type": "code",
   "execution_count": 5,
   "id": "4ba4eba1-cd09-4205-bc05-2b7fd2c2c272",
   "metadata": {},
   "outputs": [],
   "source": [
    "def createPopulation(numPopulation:int, numQubits:int, depth:int):\n",
    "    structs = openFile(\"./configuration/gate.json\")\n",
    "    for x in range(numPopulation):\n",
    "        random.seed(SEED * x)\n",
    "        depthCircuit = random.randint(1, depth);\n",
    "        circuitChoice = random.choices(list(structs.keys()), k=depthCircuit*numQubits)\n",
    "        circuitMatrix = [[circuitChoice[i*depthCircuit + j] for j in range(depthCircuit)] for i in range(numQubits)]\n",
    "        print(circuitMatrix)\n"
   ]
  },
  {
   "cell_type": "code",
   "execution_count": 6,
   "id": "21aca312-f9cc-4197-b984-3d12814c9772",
   "metadata": {},
   "outputs": [
    {
     "name": "stdout",
     "output_type": "stream",
     "text": [
      "[['CNOT', 'S', 'Z', 'T'], ['H', 'CNOT', 'Z', 'S']]\n"
     ]
    }
   ],
   "source": [
    "createPopulation(1,2, 5)"
   ]
  },
  {
   "cell_type": "code",
   "execution_count": 9,
   "id": "fad4074b-88ae-460a-b32b-9e24af25d015",
   "metadata": {},
   "outputs": [],
   "source": [
    "from qiskit import QuantumCircuit, transpile\n",
    "from qiskit.quantum_info import Statevector, state_fidelity\n",
    "from qiskit.providers.basic_provider import BasicSimulator\n",
    "from qiskit_aer.backends import AerSimulator\n",
    "import time\n",
    "\n",
    "simulator = AerSimulator()\n",
    "\n",
    "def criar_circuito(num_qubits, num_gates_por_qubit):\n",
    "    qc = QuantumCircuit(num_qubits, num_gates_por_qubit)\n",
    "    for qubit in range(num_qubits):\n",
    "        for _ in range(num_gates_por_qubit):\n",
    "            qc.h(qubit)  # Aplicando a porta de Hadamard como exemplo\n",
    "    qc.measure_all()\n",
    "    return qc\n",
    "def simular_circuito(qc, simulador):\n",
    "    qc_simulator = transpile(qc, backend=simulador)\n",
    "    job = simulador.run(qc_simulator, shots=1024)\n",
    "    return job\n"
   ]
  },
  {
   "cell_type": "code",
   "execution_count": 10,
   "id": "089c268b-6a3e-4378-b94d-9e60502f8b17",
   "metadata": {},
   "outputs": [],
   "source": [
    "time2 = criar_circuito(1, 10)"
   ]
  },
  {
   "cell_type": "code",
   "execution_count": null,
   "id": "5137dd6f-d69a-4cdc-94af-1b554a10147c",
   "metadata": {},
   "outputs": [],
   "source": []
  }
 ],
 "metadata": {
  "kernelspec": {
   "display_name": "Python 3 (ipykernel)",
   "language": "python",
   "name": "python3"
  },
  "language_info": {
   "codemirror_mode": {
    "name": "ipython",
    "version": 3
   },
   "file_extension": ".py",
   "mimetype": "text/x-python",
   "name": "python",
   "nbconvert_exporter": "python",
   "pygments_lexer": "ipython3",
   "version": "3.12.4"
  }
 },
 "nbformat": 4,
 "nbformat_minor": 5
}
