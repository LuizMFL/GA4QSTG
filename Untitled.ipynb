{
 "cells": [
  {
   "cell_type": "code",
   "execution_count": 1,
   "id": "8626805d-05a4-4d04-98d0-8c0162643893",
   "metadata": {},
   "outputs": [],
   "source": [
    "from qiskit import QuantumCircuit, transpile\n",
    "from qiskit.quantum_info import Statevector, state_fidelity\n",
    "from qiskit.visualization import plot_histogram, plot_bloch_multivector\n",
    "from qiskit.circuit.library import standard_gates\n",
    "from qiskit_aer import Aer\n",
    "import time\n",
    "import numpy\n",
    "import json\n",
    "import random\n",
    "import math\n",
    "import inspect"
   ]
  },
  {
   "cell_type": "code",
   "execution_count": 2,
   "id": "ace9690e",
   "metadata": {},
   "outputs": [],
   "source": [
    "def openFile(gate):\n",
    "    with open(gate, 'r') as f:\n",
    "        data = dict(json.load(f))\n",
    "    return data    "
   ]
  },
  {
   "cell_type": "code",
   "execution_count": 3,
   "id": "483881bc",
   "metadata": {},
   "outputs": [],
   "source": [
    "PI = math.pi\n",
    "SEED = 11\n",
    "random.seed(SEED)\n",
    "TARGET = []\n",
    "STRUCTS_GATES = openFile(\"./configuration/gate.json\")"
   ]
  },
  {
   "cell_type": "code",
   "execution_count": 5,
   "id": "ff8d8766",
   "metadata": {},
   "outputs": [],
   "source": [
    "class Parameter:\n",
    "    def __init__(self, name:str, type:list[str]):\n",
    "        self.name = name\n",
    "        self.type = type\n",
    "\n",
    "class Circuit:\n",
    "    def __init__(self, n_qubits, m_gates) -> None:\n",
    "        self.n_qubits = n_qubits\n",
    "        self.m_gates = m_gates\n",
    "        self.matrix = [[None for _ in range(n_qubits)] for _ in range(m_gates)] # Linha = Profundidade e Coluna = Qubit\n",
    "        self.fitness = None\n",
    "        self.circuit = None\n",
    "    def constructCircuit(self):\n",
    "        self.circuit = QuantumCircuit(self.n_qubits, self.n_qubits)\n",
    "        for gatesInDepth in self.matrix:\n",
    "            for gate in gatesInDepth:\n",
    "                if gate.name:\n",
    "                    self.circuit.append(gate.name, gate.parameters + gate.control_qubits + gate.target_qubits)\n",
    "                else:\n",
    "                    self.circuit.barrier(gate.affected_qubits)\n",
    "        self.circuit.draw()\n",
    "\n",
    "class Gate:\n",
    "    def __init__(self, name:str, affected_qubits:list[int], control_qubits:list[int] = [], target_qubits:list[int] = [], parameters:list = []) -> None:\n",
    "        self.name =  name\n",
    "        self.affected_qubits = affected_qubits\n",
    "        self.parameters = parameters\n",
    "        self.control_qubits= control_qubits\n",
    "        self.target_qubits= target_qubits"
   ]
  },
  {
   "cell_type": "code",
   "execution_count": 6,
   "id": "cb4cee22",
   "metadata": {},
   "outputs": [],
   "source": [
    "removeString = ['append', 'cast','clear', 'compose','control', 'copy', 'decompose', 'delay', 'depth', 'draw', 'initialize', 'inverse', 'measure','power', 'repeat', 'reset', 'size','store', 'switch', 'tensor', 'unitary', 'width']\n",
    "# Talvez -> ctrl_state\n",
    "parametersOk = ['pauli_string', 'vz', 'target_qubit1', 'vy', 'phi','vx', 'qargs', 'control_qubits', 'q_target', 'target_qubit2', 'qubits', 'theta', 'qubit2', 'q_controls', 'target_qubit','gamma', 'qubit', 'control_qubit3', 'ancilla_qubits', 'control_qubit1', 'control_qubit', 'q_ancillae', 'control_qubit2', 'qubit1', 'lam']"
   ]
  },
  {
   "cell_type": "code",
   "execution_count": 9,
   "id": "cd877f84",
   "metadata": {},
   "outputs": [],
   "source": [
    "def get_classes(module):\n",
    "    gates = [(name,cls) for name, cls in inspect.getmembers(module) if inspect.isfunction(cls) and not (name.count('add') or name.count('_'))]\n",
    "    gates = [(name, cls) for name, cls in gates if not name in removeString]\n",
    "    return gates"
   ]
  },
  {
   "cell_type": "code",
   "execution_count": 15,
   "id": "4f41f654",
   "metadata": {},
   "outputs": [
    {
     "name": "stdout",
     "output_type": "stream",
     "text": [
      "<function QuantumCircuit.barrier at 0x0000020197EC8900>\n",
      "    Parâmetro: qargs, Tipo anotado: QubitSpecifier\n",
      "<function QuantumCircuit.ccx at 0x0000020197ECA2A0>\n",
      "    Parâmetro: control_qubit1, Tipo anotado: QubitSpecifier\n",
      "    Parâmetro: control_qubit2, Tipo anotado: QubitSpecifier\n",
      "    Parâmetro: target_qubit, Tipo anotado: QubitSpecifier\n",
      "<function QuantumCircuit.ccz at 0x0000020197ECA660>\n",
      "    Parâmetro: control_qubit1, Tipo anotado: QubitSpecifier\n",
      "    Parâmetro: control_qubit2, Tipo anotado: QubitSpecifier\n",
      "    Parâmetro: target_qubit, Tipo anotado: QubitSpecifier\n",
      "<function QuantumCircuit.ch at 0x0000020197EC8AE0>\n",
      "    Parâmetro: control_qubit, Tipo anotado: QubitSpecifier\n",
      "    Parâmetro: target_qubit, Tipo anotado: QubitSpecifier\n",
      "<function QuantumCircuit.cp at 0x0000020197EC8D60>\n",
      "    Parâmetro: theta, Tipo anotado: ParameterValueType\n",
      "    Parâmetro: control_qubit, Tipo anotado: QubitSpecifier\n",
      "    Parâmetro: target_qubit, Tipo anotado: QubitSpecifier\n",
      "<function QuantumCircuit.crx at 0x0000020197EC91C0>\n",
      "    Parâmetro: theta, Tipo anotado: ParameterValueType\n",
      "    Parâmetro: control_qubit, Tipo anotado: QubitSpecifier\n",
      "    Parâmetro: target_qubit, Tipo anotado: QubitSpecifier\n",
      "<function QuantumCircuit.cry at 0x0000020197EC93A0>\n",
      "    Parâmetro: theta, Tipo anotado: ParameterValueType\n",
      "    Parâmetro: control_qubit, Tipo anotado: QubitSpecifier\n",
      "    Parâmetro: target_qubit, Tipo anotado: QubitSpecifier\n",
      "<function QuantumCircuit.crz at 0x0000020197EC9580>\n",
      "    Parâmetro: theta, Tipo anotado: ParameterValueType\n",
      "    Parâmetro: control_qubit, Tipo anotado: QubitSpecifier\n",
      "    Parâmetro: target_qubit, Tipo anotado: QubitSpecifier\n",
      "<function QuantumCircuit.cs at 0x0000020197EC9940>\n",
      "    Parâmetro: control_qubit, Tipo anotado: QubitSpecifier\n",
      "    Parâmetro: target_qubit, Tipo anotado: QubitSpecifier\n",
      "<function QuantumCircuit.csdg at 0x0000020197EC99E0>\n",
      "    Parâmetro: control_qubit, Tipo anotado: QubitSpecifier\n",
      "    Parâmetro: target_qubit, Tipo anotado: QubitSpecifier\n",
      "<function QuantumCircuit.cswap at 0x0000020197EC9BC0>\n",
      "    Parâmetro: control_qubit, Tipo anotado: QubitSpecifier\n",
      "    Parâmetro: target_qubit1, Tipo anotado: QubitSpecifier\n",
      "    Parâmetro: target_qubit2, Tipo anotado: QubitSpecifier\n",
      "<function QuantumCircuit.csx at 0x0000020197EC9DA0>\n",
      "    Parâmetro: control_qubit, Tipo anotado: QubitSpecifier\n",
      "    Parâmetro: target_qubit, Tipo anotado: QubitSpecifier\n",
      "<function QuantumCircuit.cu at 0x0000020197ECA020>\n",
      "    Parâmetro: theta, Tipo anotado: ParameterValueType\n",
      "    Parâmetro: phi, Tipo anotado: ParameterValueType\n",
      "    Parâmetro: lam, Tipo anotado: ParameterValueType\n",
      "    Parâmetro: gamma, Tipo anotado: ParameterValueType\n",
      "    Parâmetro: control_qubit, Tipo anotado: QubitSpecifier\n",
      "    Parâmetro: target_qubit, Tipo anotado: QubitSpecifier\n",
      "<function QuantumCircuit.cx at 0x0000020197ECA160>\n",
      "    Parâmetro: control_qubit, Tipo anotado: QubitSpecifier\n",
      "    Parâmetro: target_qubit, Tipo anotado: QubitSpecifier\n",
      "<function QuantumCircuit.cy at 0x0000020197ECA480>\n",
      "    Parâmetro: control_qubit, Tipo anotado: QubitSpecifier\n",
      "    Parâmetro: target_qubit, Tipo anotado: QubitSpecifier\n",
      "<function QuantumCircuit.cz at 0x0000020197ECA5C0>\n",
      "    Parâmetro: control_qubit, Tipo anotado: QubitSpecifier\n",
      "    Parâmetro: target_qubit, Tipo anotado: QubitSpecifier\n",
      "<function QuantumCircuit.dcx at 0x0000020197ECA200>\n",
      "    Parâmetro: qubit1, Tipo anotado: QubitSpecifier\n",
      "    Parâmetro: qubit2, Tipo anotado: QubitSpecifier\n",
      "<function QuantumCircuit.ecr at 0x0000020197EC9760>\n",
      "    Parâmetro: qubit1, Tipo anotado: QubitSpecifier\n",
      "    Parâmetro: qubit2, Tipo anotado: QubitSpecifier\n",
      "<function QuantumCircuit.h at 0x0000020197EC8A40>\n",
      "    Parâmetro: qubit, Tipo anotado: QubitSpecifier\n",
      "<function QuantumCircuit.id at 0x0000020197EC8B80>\n",
      "    Parâmetro: qubit, Tipo anotado: QubitSpecifier\n",
      "<function QuantumCircuit.iswap at 0x0000020197EC9B20>\n",
      "    Parâmetro: qubit1, Tipo anotado: QubitSpecifier\n",
      "    Parâmetro: qubit2, Tipo anotado: QubitSpecifier\n",
      "<function QuantumCircuit.mcp at 0x0000020197EC8E00>\n",
      "    Parâmetro: lam, Tipo anotado: ParameterValueType\n",
      "    Parâmetro: control_qubits, Tipo anotado: Sequence[QubitSpecifier]\n",
      "    Parâmetro: target_qubit, Tipo anotado: QubitSpecifier\n",
      "<function mcrx at 0x00000201981ED300>\n",
      "    Parâmetro: theta, Tipo anotado: typing.Union[qiskit.circuit.parameterexpression.ParameterExpression, float]\n",
      "    Parâmetro: q_controls, Tipo anotado: typing.Union[qiskit.circuit.quantumregister.QuantumRegister, typing.List[qiskit.circuit.quantumregister.Qubit]]\n",
      "    Parâmetro: q_target, Tipo anotado: <class 'qiskit.circuit.quantumregister.Qubit'>\n",
      "<function mcry at 0x00000201981ED3A0>\n",
      "    Parâmetro: theta, Tipo anotado: typing.Union[qiskit.circuit.parameterexpression.ParameterExpression, float]\n",
      "    Parâmetro: q_controls, Tipo anotado: typing.Union[qiskit.circuit.quantumregister.QuantumRegister, typing.List[qiskit.circuit.quantumregister.Qubit]]\n",
      "    Parâmetro: q_target, Tipo anotado: <class 'qiskit.circuit.quantumregister.Qubit'>\n",
      "    Parâmetro: q_ancillae, Tipo anotado: typing.Union[qiskit.circuit.quantumregister.QuantumRegister, typing.Tuple[qiskit.circuit.quantumregister.QuantumRegister, int], NoneType]\n",
      "<function mcrz at 0x00000201981ED440>\n",
      "    Parâmetro: lam, Tipo anotado: typing.Union[qiskit.circuit.parameterexpression.ParameterExpression, float]\n",
      "    Parâmetro: q_controls, Tipo anotado: typing.Union[qiskit.circuit.quantumregister.QuantumRegister, typing.List[qiskit.circuit.quantumregister.Qubit]]\n",
      "    Parâmetro: q_target, Tipo anotado: <class 'qiskit.circuit.quantumregister.Qubit'>\n",
      "<function QuantumCircuit.mcx at 0x0000020197ECA340>\n",
      "    Parâmetro: control_qubits, Tipo anotado: Sequence[QubitSpecifier]\n",
      "    Parâmetro: target_qubit, Tipo anotado: QubitSpecifier\n",
      "    Parâmetro: ancilla_qubits, Tipo anotado: QubitSpecifier | Sequence[QubitSpecifier] | None\n",
      "<function QuantumCircuit.ms at 0x0000020197EC8C20>\n",
      "    Parâmetro: theta, Tipo anotado: ParameterValueType\n",
      "    Parâmetro: qubits, Tipo anotado: Sequence[QubitSpecifier]\n",
      "<function QuantumCircuit.p at 0x0000020197EC8CC0>\n",
      "    Parâmetro: theta, Tipo anotado: ParameterValueType\n",
      "    Parâmetro: qubit, Tipo anotado: QubitSpecifier\n",
      "<function QuantumCircuit.pauli at 0x0000020197ECA700>\n",
      "    Parâmetro: pauli_string, Tipo anotado: str\n",
      "    Parâmetro: qubits, Tipo anotado: Sequence[QubitSpecifier]\n",
      "<function QuantumCircuit.r at 0x0000020197EC8EA0>\n",
      "    Parâmetro: theta, Tipo anotado: ParameterValueType\n",
      "    Parâmetro: phi, Tipo anotado: ParameterValueType\n",
      "    Parâmetro: qubit, Tipo anotado: QubitSpecifier\n",
      "<function QuantumCircuit.rcccx at 0x0000020197EC9080>\n",
      "    Parâmetro: control_qubit1, Tipo anotado: QubitSpecifier\n",
      "    Parâmetro: control_qubit2, Tipo anotado: QubitSpecifier\n",
      "    Parâmetro: control_qubit3, Tipo anotado: QubitSpecifier\n",
      "    Parâmetro: target_qubit, Tipo anotado: QubitSpecifier\n",
      "<function QuantumCircuit.rccx at 0x0000020197EC8FE0>\n",
      "    Parâmetro: control_qubit1, Tipo anotado: QubitSpecifier\n",
      "    Parâmetro: control_qubit2, Tipo anotado: QubitSpecifier\n",
      "    Parâmetro: target_qubit, Tipo anotado: QubitSpecifier\n",
      "<function QuantumCircuit.rv at 0x0000020197EC8F40>\n",
      "    Parâmetro: vx, Tipo anotado: ParameterValueType\n",
      "    Parâmetro: vy, Tipo anotado: ParameterValueType\n",
      "    Parâmetro: vz, Tipo anotado: ParameterValueType\n",
      "    Parâmetro: qubit, Tipo anotado: QubitSpecifier\n",
      "<function QuantumCircuit.rx at 0x0000020197EC9120>\n",
      "    Parâmetro: theta, Tipo anotado: ParameterValueType\n",
      "    Parâmetro: qubit, Tipo anotado: QubitSpecifier\n",
      "<function QuantumCircuit.rxx at 0x0000020197EC9260>\n",
      "    Parâmetro: theta, Tipo anotado: ParameterValueType\n",
      "    Parâmetro: qubit1, Tipo anotado: QubitSpecifier\n",
      "    Parâmetro: qubit2, Tipo anotado: QubitSpecifier\n",
      "<function QuantumCircuit.ry at 0x0000020197EC9300>\n",
      "    Parâmetro: theta, Tipo anotado: ParameterValueType\n",
      "    Parâmetro: qubit, Tipo anotado: QubitSpecifier\n",
      "<function QuantumCircuit.ryy at 0x0000020197EC9440>\n",
      "    Parâmetro: theta, Tipo anotado: ParameterValueType\n",
      "    Parâmetro: qubit1, Tipo anotado: QubitSpecifier\n",
      "    Parâmetro: qubit2, Tipo anotado: QubitSpecifier\n",
      "<function QuantumCircuit.rz at 0x0000020197EC94E0>\n",
      "    Parâmetro: phi, Tipo anotado: ParameterValueType\n",
      "    Parâmetro: qubit, Tipo anotado: QubitSpecifier\n",
      "<function QuantumCircuit.rzx at 0x0000020197EC9620>\n",
      "    Parâmetro: theta, Tipo anotado: ParameterValueType\n",
      "    Parâmetro: qubit1, Tipo anotado: QubitSpecifier\n",
      "    Parâmetro: qubit2, Tipo anotado: QubitSpecifier\n",
      "<function QuantumCircuit.rzz at 0x0000020197EC96C0>\n",
      "    Parâmetro: theta, Tipo anotado: ParameterValueType\n",
      "    Parâmetro: qubit1, Tipo anotado: QubitSpecifier\n",
      "    Parâmetro: qubit2, Tipo anotado: QubitSpecifier\n",
      "<function QuantumCircuit.s at 0x0000020197EC9800>\n",
      "    Parâmetro: qubit, Tipo anotado: QubitSpecifier\n",
      "<function QuantumCircuit.sdg at 0x0000020197EC98A0>\n",
      "    Parâmetro: qubit, Tipo anotado: QubitSpecifier\n",
      "<function QuantumCircuit.swap at 0x0000020197EC9A80>\n",
      "    Parâmetro: qubit1, Tipo anotado: QubitSpecifier\n",
      "    Parâmetro: qubit2, Tipo anotado: QubitSpecifier\n",
      "<function QuantumCircuit.sx at 0x0000020197EC9C60>\n",
      "    Parâmetro: qubit, Tipo anotado: QubitSpecifier\n",
      "<function QuantumCircuit.sxdg at 0x0000020197EC9D00>\n",
      "    Parâmetro: qubit, Tipo anotado: QubitSpecifier\n",
      "<function QuantumCircuit.t at 0x0000020197EC9E40>\n",
      "    Parâmetro: qubit, Tipo anotado: QubitSpecifier\n",
      "<function QuantumCircuit.tdg at 0x0000020197EC9EE0>\n",
      "    Parâmetro: qubit, Tipo anotado: QubitSpecifier\n",
      "<function QuantumCircuit.u at 0x0000020197EC9F80>\n",
      "    Parâmetro: theta, Tipo anotado: ParameterValueType\n",
      "    Parâmetro: phi, Tipo anotado: ParameterValueType\n",
      "    Parâmetro: lam, Tipo anotado: ParameterValueType\n",
      "    Parâmetro: qubit, Tipo anotado: QubitSpecifier\n",
      "<function QuantumCircuit.x at 0x0000020197ECA0C0>\n",
      "    Parâmetro: qubit, Tipo anotado: QubitSpecifier\n",
      "<function QuantumCircuit.y at 0x0000020197ECA3E0>\n",
      "    Parâmetro: qubit, Tipo anotado: QubitSpecifier\n",
      "<function QuantumCircuit.z at 0x0000020197ECA520>\n",
      "    Parâmetro: qubit, Tipo anotado: QubitSpecifier\n",
      "['int', 'int', 'int', 'int', 'int', 'int', 'int', 'int', 'int', 'float', 'int', 'int', 'float', 'int', 'int', 'float', 'int', 'int', 'float', 'int', 'int', 'int', 'int', 'int', 'int', 'int', 'int', 'int', 'int', 'int', 'float', 'float', 'float', 'float', 'int', 'int', 'int', 'int', 'int', 'int', 'int', 'int', 'int', 'int', 'int', 'int', 'int', 'int', 'int', 'int', 'float', 'int', 'int', 'int', 'float', 'float', 'int', 'float', 'float', 'int', 'int', 'int', 'int', 'int', 'int', 'int', 'int', 'float', 'float', 'float', 'int', 'float', 'int', 'float', 'int', 'int', 'float', 'int', 'float', 'int', 'int', 'float', 'int', 'float', 'int', 'int', 'float', 'int', 'int', 'int', 'int', 'int', 'int', 'int', 'int', 'int', 'int', 'float', 'float', 'float', 'int', 'int', 'int', 'int']\n",
      "{'target_qubit1', 'ctrl_state', 'q_controls', 'control_qubit2', 'vz', 'mode', 'phi', 'qubit2', 'vy', 'lam', 'qubit', 'gamma', 'vx', 'control_qubit', 'qargs', 'pauli_string', 'theta', 'control_qubit1', 'q_target', 'q_ancillae', 'qubits', 'ancilla_qubits', 'target_qubit', 'self', 'label', 'use_basis_gates', 'control_qubits', 'control_qubit3', 'qubit1', 'target_qubit2'}\n"
     ]
    }
   ],
   "source": [
    "classes = get_classes(QuantumCircuit)\n",
    "parameters = []\n",
    "typesFloat = [\"ParameterValueType\", \"typing.Union[qiskit.circuit.parameterexpression.ParameterExpression, float]\"]\n",
    "# Iterando sobre os parâmetros\n",
    "types = []\n",
    "for name, classe in classes:\n",
    "    init_signature = inspect.signature(classe)\n",
    "    print(classe)\n",
    "    for parameter_name, parameter in init_signature.parameters.items():\n",
    "        parameters.append(parameter_name)\n",
    "        if parameter_name in parametersOk:\n",
    "            parameterTypesAnnotation = str(parameter.annotation).replace(' ', '').replace(',', '|').split('|')\n",
    "            if  str(parameter.annotation).split(\" | \").count(\"QubitSpecifier\"):\n",
    "                types.append(\"int\")\n",
    "            elif \"ParameterValueType\" in parameterTypesAnnotation:\n",
    "                types.append(\"float\")\n",
    "            elif \"ParameterValueType\" in parameterTypesAnnotation:\n",
    "                types.append(\"float\")\n",
    "            print(f\"    Parâmetro: {parameter_name}, Tipo anotado: {parameter.annotation}\")\n",
    "print(types)\n",
    "parameters = set(parameters)\n",
    "print(parameters)"
   ]
  },
  {
   "cell_type": "code",
   "execution_count": 9,
   "id": "4927b233-04d4-4368-8476-b10aac7ca13d",
   "metadata": {},
   "outputs": [],
   "source": [
    "def createGateToListQubits(qubitsFree, structLocal):\n",
    "    structLocal = {gateName: gateInfo for gateName, gateInfo in structLocal.items() if (gateName == \"\") or (gateInfo['affected_qubits'] <= len(qubitsFree))}\n",
    "    gateName, gateInfo = random.choice(list(structLocal.items()))\n",
    "    y = random.choice(qubitsFree)\n",
    "    qubitsFree.remove(y)\n",
    "    qubitsChoice = [y]\n",
    "    qubitsTarget = []\n",
    "    qubitsControl = []\n",
    "    parameters = []\n",
    "    if gateName:\n",
    "        qubitsChoice = [y] + random.sample(qubitsFree, gateInfo['affected_qubits'] - 1)\n",
    "        qubitsFree = list(set(qubitsFree).difference(qubitsChoice))\n",
    "        qubitsControl = random.sample(qubitsChoice, gateInfo['control_qubits'])\n",
    "        qubitsTarget = list(set(qubitsChoice).difference(qubitsControl))\n",
    "        parameters = [random.uniform(0, 2) for _ in range(gateInfo['parameters'])]\n",
    "    gate = Gate(gateName, qubitsChoice, qubitsControl, qubitsTarget, parameters)\n",
    "    return gate, qubitsFree\n",
    "\n",
    "def createCircuit(numQubits, maxDepth, minDepth):\n",
    "    depth = random.randint(minDepth, maxDepth)\n",
    "    circuit = Circuit(numQubits, depth)\n",
    "    for y in range(depth):\n",
    "        structLocal = STRUCTS_GATES.copy()\n",
    "        qubitsFree = list(range(numQubits))\n",
    "        while qubitsFree:\n",
    "            gate, qubitsFree = createGateToListQubits(qubitsFree, structLocal)\n",
    "            for x in gate.affected_qubits:\n",
    "                circuit.matrix[y][x] = gate\n",
    "    return circuit\n",
    "\n",
    "def initialPopulation(numPopulation:int, numQubits:int, maxDepth:int, minDepth:int=0):\n",
    "    population = []\n",
    "    for _ in range(numPopulation):\n",
    "        circuit = createCircuit(numQubits, maxDepth, minDepth)\n",
    "        population.append(circuit)\n",
    "    return population\n",
    "\n",
    "def fidelityFitnessFunction(circuit, svTarget:Statevector):\n",
    "    #job_1 = simular_circuito(qc_1, simulator)\n",
    "    sv2 = Statevector.from_label(\"000\")\n",
    "    sv2 = sv2.evolve(qc_2)\n",
    "    #job_1 = simular_circuito(qc_1, simulator)\n",
    "    sv1 = Statevector.from_label(\"000\")\n",
    "    sv1 = sv1.evolve(qc_1)\n",
    "    state_fidelity(sv1, sv2)\n",
    "\n",
    "def parentSelection():\n",
    "    pass\n",
    "def crossover():\n",
    "    pass\n",
    "def mutation():\n",
    "    pass\n",
    "def survivorSelection():\n",
    "    pass\n"
   ]
  },
  {
   "cell_type": "code",
   "execution_count": 13,
   "id": "21aca312-f9cc-4197-b984-3d12814c9772",
   "metadata": {},
   "outputs": [
    {
     "ename": "TypeError",
     "evalue": "issubclass() arg 1 must be a class",
     "output_type": "error",
     "traceback": [
      "\u001b[1;31m---------------------------------------------------------------------------\u001b[0m",
      "\u001b[1;31mTypeError\u001b[0m                                 Traceback (most recent call last)",
      "Cell \u001b[1;32mIn[13], line 3\u001b[0m\n\u001b[0;32m      1\u001b[0m \u001b[38;5;66;03m#createPopulation(10,2, 5)\u001b[39;00m\n\u001b[0;32m      2\u001b[0m population \u001b[38;5;241m=\u001b[39m initialPopulation(\u001b[38;5;241m1\u001b[39m, \u001b[38;5;241m10\u001b[39m, \u001b[38;5;241m10\u001b[39m)\n\u001b[1;32m----> 3\u001b[0m \u001b[43mpopulation\u001b[49m\u001b[43m[\u001b[49m\u001b[38;5;241;43m0\u001b[39;49m\u001b[43m]\u001b[49m\u001b[38;5;241;43m.\u001b[39;49m\u001b[43mconstructCircuit\u001b[49m\u001b[43m(\u001b[49m\u001b[43m)\u001b[49m\n",
      "Cell \u001b[1;32mIn[8], line 13\u001b[0m, in \u001b[0;36mCircuit.constructCircuit\u001b[1;34m(self)\u001b[0m\n\u001b[0;32m     11\u001b[0m \u001b[38;5;28;01mfor\u001b[39;00m gate \u001b[38;5;129;01min\u001b[39;00m gatesInDepth:\n\u001b[0;32m     12\u001b[0m     \u001b[38;5;28;01mif\u001b[39;00m gate\u001b[38;5;241m.\u001b[39mname:\n\u001b[1;32m---> 13\u001b[0m         \u001b[38;5;28;43mself\u001b[39;49m\u001b[38;5;241;43m.\u001b[39;49m\u001b[43mcircuit\u001b[49m\u001b[38;5;241;43m.\u001b[39;49m\u001b[43mappend\u001b[49m\u001b[43m(\u001b[49m\u001b[43mgate\u001b[49m\u001b[38;5;241;43m.\u001b[39;49m\u001b[43mname\u001b[49m\u001b[43m,\u001b[49m\u001b[43m \u001b[49m\u001b[43mgate\u001b[49m\u001b[38;5;241;43m.\u001b[39;49m\u001b[43mparameters\u001b[49m\u001b[43m \u001b[49m\u001b[38;5;241;43m+\u001b[39;49m\u001b[43m \u001b[49m\u001b[43mgate\u001b[49m\u001b[38;5;241;43m.\u001b[39;49m\u001b[43mcontrol_qubits\u001b[49m\u001b[43m \u001b[49m\u001b[38;5;241;43m+\u001b[39;49m\u001b[43m \u001b[49m\u001b[43mgate\u001b[49m\u001b[38;5;241;43m.\u001b[39;49m\u001b[43mtarget_qubits\u001b[49m\u001b[43m)\u001b[49m\n\u001b[0;32m     14\u001b[0m     \u001b[38;5;28;01melse\u001b[39;00m:\n\u001b[0;32m     15\u001b[0m         \u001b[38;5;28mself\u001b[39m\u001b[38;5;241m.\u001b[39mcircuit\u001b[38;5;241m.\u001b[39mbarrier(gate\u001b[38;5;241m.\u001b[39maffected_qubits)\n",
      "File \u001b[1;32md:\\Estudos\\Faculdade\\TIA\\venv\\Lib\\site-packages\\qiskit\\circuit\\quantumcircuit.py:2457\u001b[0m, in \u001b[0;36mQuantumCircuit.append\u001b[1;34m(self, instruction, qargs, cargs, copy)\u001b[0m\n\u001b[0;32m   2455\u001b[0m         \u001b[38;5;28;01mraise\u001b[39;00m CircuitError(\u001b[38;5;124m\"\u001b[39m\u001b[38;5;124moperation.to_instruction() is not an Operation.\u001b[39m\u001b[38;5;124m\"\u001b[39m)\n\u001b[0;32m   2456\u001b[0m \u001b[38;5;28;01melse\u001b[39;00m:\n\u001b[1;32m-> 2457\u001b[0m     \u001b[38;5;28;01mif\u001b[39;00m \u001b[38;5;28;43missubclass\u001b[39;49m\u001b[43m(\u001b[49m\u001b[43moperation\u001b[49m\u001b[43m,\u001b[49m\u001b[43m \u001b[49m\u001b[43mOperation\u001b[49m\u001b[43m)\u001b[49m:\n\u001b[0;32m   2458\u001b[0m         \u001b[38;5;28;01mraise\u001b[39;00m CircuitError(\n\u001b[0;32m   2459\u001b[0m             \u001b[38;5;124m\"\u001b[39m\u001b[38;5;124mObject is a subclass of Operation, please add () to \u001b[39m\u001b[38;5;124m\"\u001b[39m\n\u001b[0;32m   2460\u001b[0m             \u001b[38;5;124m\"\u001b[39m\u001b[38;5;124mpass an instance of this object.\u001b[39m\u001b[38;5;124m\"\u001b[39m\n\u001b[0;32m   2461\u001b[0m         )\n\u001b[0;32m   2463\u001b[0m     \u001b[38;5;28;01mraise\u001b[39;00m CircuitError(\n\u001b[0;32m   2464\u001b[0m         \u001b[38;5;124m\"\u001b[39m\u001b[38;5;124mObject to append must be an Operation or have a to_instruction() method.\u001b[39m\u001b[38;5;124m\"\u001b[39m\n\u001b[0;32m   2465\u001b[0m     )\n",
      "File \u001b[1;32m<frozen abc>:123\u001b[0m, in \u001b[0;36m__subclasscheck__\u001b[1;34m(cls, subclass)\u001b[0m\n",
      "\u001b[1;31mTypeError\u001b[0m: issubclass() arg 1 must be a class"
     ]
    }
   ],
   "source": [
    "#createPopulation(10,2, 5)\n",
    "population = initialPopulation(1, 10, 10)\n",
    "population[0].constructCircuit()"
   ]
  },
  {
   "cell_type": "code",
   "execution_count": 13,
   "id": "fad4074b-88ae-460a-b32b-9e24af25d015",
   "metadata": {},
   "outputs": [],
   "source": [
    "simulator = Aer.get_backend('statevector_simulator')\n",
    "def criar_circuito(num_qubits, num_gates_por_qubit):\n",
    "    qc = QuantumCircuit(num_qubits)\n",
    "    for qubit in range(num_qubits):\n",
    "        for _ in range(num_gates_por_qubit):\n",
    "            qc.h(qubit)  # Aplicando a porta de Hadamard como exemplo\n",
    "\n",
    "    #qc.measure_all()\n",
    "    return qc\n",
    "def simular_circuito(qc, simulador):\n",
    "    qc_simulator = transpile(qc, backend=simulador)\n",
    "    job = simulador.run(qc_simulator, shots=1024)\n",
    "    return job\n"
   ]
  },
  {
   "cell_type": "code",
   "execution_count": 12,
   "id": "089c268b-6a3e-4378-b94d-9e60502f8b17",
   "metadata": {},
   "outputs": [],
   "source": [
    "qc_1 = criar_circuito(3, 0)\n",
    "qc_2 = criar_circuito(3, 0)\n",
    "QuantumCircuit.mcry"
   ]
  },
  {
   "cell_type": "code",
   "execution_count": 13,
   "id": "5137dd6f-d69a-4cdc-94af-1b554a10147c",
   "metadata": {},
   "outputs": [
    {
     "data": {
      "text/html": [
       "<pre style=\"word-wrap: normal;white-space: pre;background: #fff0;line-height: 1.1;font-family: &quot;Courier New&quot;,Courier,monospace\">     \n",
       "q_0: \n",
       "     \n",
       "q_1: \n",
       "     \n",
       "q_2: \n",
       "     </pre>"
      ],
      "text/plain": [
       "     \n",
       "q_0: \n",
       "     \n",
       "q_1: \n",
       "     \n",
       "q_2: \n",
       "     "
      ]
     },
     "execution_count": 13,
     "metadata": {},
     "output_type": "execute_result"
    }
   ],
   "source": [
    "qc_1.draw()\n",
    "qc_1.r()"
   ]
  },
  {
   "cell_type": "code",
   "execution_count": 14,
   "id": "ca8f9952",
   "metadata": {},
   "outputs": [
    {
     "data": {
      "text/html": [
       "<pre style=\"word-wrap: normal;white-space: pre;background: #fff0;line-height: 1.1;font-family: &quot;Courier New&quot;,Courier,monospace\">     \n",
       "q_0: \n",
       "     \n",
       "q_1: \n",
       "     \n",
       "q_2: \n",
       "     </pre>"
      ],
      "text/plain": [
       "     \n",
       "q_0: \n",
       "     \n",
       "q_1: \n",
       "     \n",
       "q_2: \n",
       "     "
      ]
     },
     "execution_count": 14,
     "metadata": {},
     "output_type": "execute_result"
    }
   ],
   "source": [
    "qc_2.draw()"
   ]
  },
  {
   "cell_type": "code",
   "execution_count": 125,
   "id": "02e09ef2",
   "metadata": {},
   "outputs": [
    {
     "data": {
      "text/plain": [
       "1.0"
      ]
     },
     "execution_count": 125,
     "metadata": {},
     "output_type": "execute_result"
    }
   ],
   "source": [
    "#job_1 = simular_circuito(qc_1, simulator)\n",
    "sv2 = Statevector.from_label(\"000\")\n",
    "sv2 = sv2.evolve(qc_2)\n",
    "#job_1 = simular_circuito(qc_1, simulator)\n",
    "sv1 = Statevector.from_label(\"000\")\n",
    "sv1 = sv1.evolve(qc_1)\n",
    "state_fidelity(sv1, sv2)"
   ]
  },
  {
   "cell_type": "code",
   "execution_count": 112,
   "id": "533259db",
   "metadata": {},
   "outputs": [],
   "source": [
    "#job_2 = simular_circuito(qc_2, simulator)"
   ]
  },
  {
   "cell_type": "code",
   "execution_count": 113,
   "id": "9cebbb85",
   "metadata": {},
   "outputs": [],
   "source": [
    "\n",
    "result = job_1.result()\n"
   ]
  },
  {
   "cell_type": "code",
   "execution_count": 65,
   "id": "e2e870f8",
   "metadata": {},
   "outputs": [
    {
     "name": "stdout",
     "output_type": "stream",
     "text": [
      "Statevector([0.+0.j, 0.+0.j, 0.+0.j, 0.+0.j, 0.+0.j, 0.+0.j, 0.+0.j,\n",
      "             0.+0.j, 1.+0.j, 0.+0.j, 0.+0.j, 0.+0.j, 0.+0.j, 0.+0.j,\n",
      "             0.+0.j, 0.+0.j, 0.+0.j, 0.+0.j, 0.+0.j, 0.+0.j, 0.+0.j,\n",
      "             0.+0.j, 0.+0.j, 0.+0.j, 0.+0.j, 0.+0.j, 0.+0.j, 0.+0.j,\n",
      "             0.+0.j, 0.+0.j, 0.+0.j, 0.+0.j],\n",
      "            dims=(2, 2, 2, 2, 2))\n"
     ]
    }
   ],
   "source": [
    "result.get_statevector()"
   ]
  },
  {
   "cell_type": "code",
   "execution_count": 66,
   "id": "2d09466b",
   "metadata": {},
   "outputs": [],
   "source": [
    "result1 = job_2.result()"
   ]
  },
  {
   "cell_type": "code",
   "execution_count": 67,
   "id": "4ae306ff",
   "metadata": {},
   "outputs": [
    {
     "name": "stdout",
     "output_type": "stream",
     "text": [
      "Statevector([1.+0.j, 0.+0.j, 0.+0.j, 0.+0.j, 0.+0.j, 0.+0.j, 0.+0.j,\n",
      "             0.+0.j, 0.+0.j, 0.+0.j, 0.+0.j, 0.+0.j, 0.+0.j, 0.+0.j,\n",
      "             0.+0.j, 0.+0.j, 0.+0.j, 0.+0.j, 0.+0.j, 0.+0.j, 0.+0.j,\n",
      "             0.+0.j, 0.+0.j, 0.+0.j, 0.+0.j, 0.+0.j, 0.+0.j, 0.+0.j,\n",
      "             0.+0.j, 0.+0.j, 0.+0.j, 0.+0.j],\n",
      "            dims=(2, 2, 2, 2, 2))\n"
     ]
    }
   ],
   "source": [
    "result1.get_statevector()"
   ]
  },
  {
   "cell_type": "code",
   "execution_count": 68,
   "id": "0adae364",
   "metadata": {},
   "outputs": [
    {
     "data": {
      "image/png": "[encoded data removed]",
      "text/plain": [
       "<Figure size 640x480 with 1 Axes>"
      ]
     },
     "metadata": {},
     "output_type": "display_data"
    }
   ],
   "source": [
    "import matplotlib.pyplot as plt\n",
    "import numpy as np\n",
    "\n",
    "# Supondo que o statevector já esteja calculado e armazenado em uma lista\n",
    "\n",
    "\n",
    "# Calculando as probabilidades\n",
    "probabilities = np.abs(statevector)**2\n",
    "\n",
    "# Criando os rótulos dos estados computacionais (ajuste conforme necessário)\n",
    "states = ['0', '1']\n",
    "\n",
    "# Criando o gráfico de barras\n",
    "plt.bar(states, probabilities)\n",
    "plt.xlabel('Computational basis states')\n",
    "plt.ylabel('Amplitude')\n",
    "plt.title('Probabilities')\n",
    "plt.show()"
   ]
  },
  {
   "cell_type": "code",
   "execution_count": 69,
   "id": "86a6097c",
   "metadata": {},
   "outputs": [
    {
     "data": {
      "text/plain": [
       "0.0"
      ]
     },
     "execution_count": 69,
     "metadata": {},
     "output_type": "execute_result"
    }
   ],
   "source": [
    "statevector = result.get_statevector() # Substitua pelos seus valores\n",
    "statevector2 = result1.get_statevector()\n",
    "state_fidelity(statevector, statevector2)"
   ]
  },
  {
   "cell_type": "code",
   "execution_count": null,
   "id": "2f68313c",
   "metadata": {},
   "outputs": [],
   "source": []
  },
  {
   "cell_type": "code",
   "execution_count": null,
   "id": "a791e0e5",
   "metadata": {},
   "outputs": [],
   "source": []
  }
 ],
 "metadata": {
  "kernelspec": {
   "display_name": "Python 3 (ipykernel)",
   "language": "python",
   "name": "python3"
  },
  "language_info": {
   "codemirror_mode": {
    "name": "ipython",
    "version": 3
   },
   "file_extension": ".py",
   "mimetype": "text/x-python",
   "name": "python",
   "nbconvert_exporter": "python",
   "pygments_lexer": "ipython3",
   "version": "3.12.4"
  }
 },
 "nbformat": 4,
 "nbformat_minor": 5
}
